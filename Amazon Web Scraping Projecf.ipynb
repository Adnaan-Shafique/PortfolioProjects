{
 "cells": [
  {
   "cell_type": "code",
   "execution_count": 2,
   "id": "ef59975c",
   "metadata": {},
   "outputs": [],
   "source": [
    "#import libraries\n",
    "\n",
    "from bs4 import BeautifulSoup #used to take html code from the pull requests\n",
    "import requests #pulls code from the url\n",
    "import time #for getting today's date\n",
    "import datetime \n",
    "\n",
    "import smtplib  #used for sending emails to yourself"
   ]
  },
  {
   "cell_type": "code",
   "execution_count": 57,
   "id": "a3e32508",
   "metadata": {},
   "outputs": [
    {
     "name": "stdout",
     "output_type": "stream",
     "text": [
      "\n",
      "                The Banyan Tee Half Sleeve Premium Printed Cotton Music T-Shirt Style Code: TBT-M_Radio_Creep_B\n",
      "               \n",
      "\n",
      "\n",
      "\n",
      "\n",
      "              -30%\n",
      "             \n",
      "\n",
      "\n",
      "               ₹699\n",
      "              \n",
      "\n",
      "\n",
      "                ₹\n",
      "               \n",
      "\n",
      "                699\n",
      "               \n",
      "\n",
      "\n",
      "\n",
      "\n",
      "\n",
      "\n",
      "               M.R.P.:\n",
      "               \n",
      "\n",
      "                 ₹999\n",
      "                \n",
      "\n",
      "                 ₹999\n",
      "                \n",
      "\n",
      "\n",
      "\n",
      "\n",
      "\n",
      "\n",
      "\n",
      "\n",
      "\n"
     ]
    }
   ],
   "source": [
    "#connect to website\n",
    "\n",
    "#put the URL of the product you want to track\n",
    "URL = 'https://www.amazon.in/Banyan-Tee-Radiohead-T-Shirt-Regular/dp/B08VMNZJCQ/ref=sr_1_11?crid=J51MNE8CB5TH&keywords=radiohead+tshirt&qid=1679590397&sprefix=radiohead+tsh%2Caps%2C266&sr=8-11'\n",
    "\n",
    "#use  https://httpbin.org/get to get user-agent data\n",
    "headers = {\"User-Agent\": \"Mozilla/5.0 (Windows NT 10.0; Win64; x64) AppleWebKit/537.36 (KHTML, like Gecko) Chrome/111.0.0.0 Safari/537.36\", \"Accept-Encoding\":\"gzip, deflate\", \"Accept\":\"text/html,application/xhtml+xml,application/xml;q=0.9,*/*;q=0.8\", \"DNT\":\"1\",\"Connection\":\"close\", \"Upgrade-Insecure-Requests\":\"1\"}\n",
    "\n",
    "page = requests.get(URL, headers = headers)\n",
    "\n",
    "soup1 = BeautifulSoup(page.content, \"html.parser\")\n",
    "\n",
    "#makes a prettier version of the html code\n",
    "soup2 = BeautifulSoup(soup1.prettify(), \"html.parser\")\n",
    "\n",
    "#gets product title in str\n",
    "title = soup2.find(id = 'productTitle').get_text()\n",
    "\n",
    "#gets product price in str\n",
    "price = soup2.find(id = 'corePriceDisplay_desktop_feature_div').get_text()\n"
   ]
  },
  {
   "cell_type": "code",
   "execution_count": 58,
   "id": "aac96e47",
   "metadata": {},
   "outputs": [
    {
     "name": "stdout",
     "output_type": "stream",
     "text": [
      "The Banyan Tee Half Sleeve Premium Printed Cotton Music T-Shirt Style Code: TBT-M_Radio_Creep_B\n",
      "699\n"
     ]
    }
   ],
   "source": [
    "#Here, we remove unnecessary spaces from the strings\n",
    "\n",
    "price = price.strip()[37:40] #used a fixed range to get the 3-digit price. This will vary from product to product\n",
    "title = title.strip()\n"
   ]
  },
  {
   "cell_type": "code",
   "execution_count": 62,
   "id": "a7c9a0fa",
   "metadata": {},
   "outputs": [
    {
     "name": "stdout",
     "output_type": "stream",
     "text": [
      "2023-03-23\n"
     ]
    }
   ],
   "source": [
    "#we define today in date format\n",
    "\n",
    "import datetime\n",
    "today = datetime.date.today()\n",
    "print(today)\n",
    "\n",
    "\n"
   ]
  },
  {
   "cell_type": "code",
   "execution_count": 63,
   "id": "587b2ad9",
   "metadata": {},
   "outputs": [],
   "source": [
    "#creates a csv files and stores data\n",
    "\n",
    "import csv\n",
    "\n",
    "header = ['Title','Price','date'] #column headers\n",
    "\n",
    "data = [title, price,today] #data inputs in the rows\n",
    "\n",
    "#this is for creating the csv file. w - write into the disk\n",
    "with open('Amazonwebscraperdataset.csv', 'w', newline='', encoding = 'UTF8') as f:\n",
    "    writer = csv.writer(f)\n",
    "    writer.writerow(header)\n",
    "    writer.writerow(data)\n",
    "#caution, this will keep on writing in the existing csv file, hence overwriting the existing data. We obviously don't want that so we will have to append the new data everytime. This function is only for creating the file."
   ]
  },
  {
   "cell_type": "code",
   "execution_count": 64,
   "id": "f8b6fa4e",
   "metadata": {},
   "outputs": [
    {
     "data": {
      "text/html": [
       "<div>\n",
       "<style scoped>\n",
       "    .dataframe tbody tr th:only-of-type {\n",
       "        vertical-align: middle;\n",
       "    }\n",
       "\n",
       "    .dataframe tbody tr th {\n",
       "        vertical-align: top;\n",
       "    }\n",
       "\n",
       "    .dataframe thead th {\n",
       "        text-align: right;\n",
       "    }\n",
       "</style>\n",
       "<table border=\"1\" class=\"dataframe\">\n",
       "  <thead>\n",
       "    <tr style=\"text-align: right;\">\n",
       "      <th></th>\n",
       "      <th>Title</th>\n",
       "      <th>Price</th>\n",
       "      <th>date</th>\n",
       "    </tr>\n",
       "  </thead>\n",
       "  <tbody>\n",
       "    <tr>\n",
       "      <th>0</th>\n",
       "      <td>The Banyan Tee Half Sleeve Premium Printed Cot...</td>\n",
       "      <td>699</td>\n",
       "      <td>2023-03-23</td>\n",
       "    </tr>\n",
       "  </tbody>\n",
       "</table>\n",
       "</div>"
      ],
      "text/plain": [
       "                                               Title  Price        date\n",
       "0  The Banyan Tee Half Sleeve Premium Printed Cot...    699  2023-03-23"
      ]
     },
     "execution_count": 64,
     "metadata": {},
     "output_type": "execute_result"
    }
   ],
   "source": [
    "#reads the file and shows the rows as output so you dont have to open the file everytime.\n",
    "\n",
    "import pandas as pd\n",
    "pd.read_csv(r'C:\\Users\\Welcome\\Amazonwebscraperdataset.csv')"
   ]
  },
  {
   "cell_type": "code",
   "execution_count": null,
   "id": "dce6d4c9",
   "metadata": {},
   "outputs": [],
   "source": [
    "#appending data to csv\n",
    "\n",
    "with open('Amazonwebscraperdataset.csv', 'a+', newline='', encoding = 'UTF8') as f:\n",
    "    writer = csv.writer(f)\n",
    "    writer.writerow(data)"
   ]
  },
  {
   "cell_type": "code",
   "execution_count": 69,
   "id": "814df529",
   "metadata": {},
   "outputs": [
    {
     "ename": "IndentationError",
     "evalue": "expected an indented block (475991571.py, line 32)",
     "output_type": "error",
     "traceback": [
      "\u001b[1;36m  File \u001b[1;32m\"C:\\Users\\Welcome\\AppData\\Local\\Temp\\ipykernel_11748\\475991571.py\"\u001b[1;36m, line \u001b[1;32m32\u001b[0m\n\u001b[1;33m    if(price < 500):\u001b[0m\n\u001b[1;37m                    ^\u001b[0m\n\u001b[1;31mIndentationError\u001b[0m\u001b[1;31m:\u001b[0m expected an indented block\n"
     ]
    }
   ],
   "source": [
    "#combines all the code above into one function\n",
    "\n",
    "def check_price():\n",
    "    URL = 'https://www.amazon.in/Banyan-Tee-Radiohead-T-Shirt-Regular/dp/B08VMNZJCQ/ref=sr_1_11?crid=J51MNE8CB5TH&keywords=radiohead+tshirt&qid=1679590397&sprefix=radiohead+tsh%2Caps%2C266&sr=8-11'\n",
    "\n",
    "    headers = {\"User-Agent\": \"Mozilla/5.0 (Windows NT 10.0; Win64; x64) AppleWebKit/537.36 (KHTML, like Gecko) Chrome/111.0.0.0 Safari/537.36\", \"Accept-Encoding\":\"gzip, deflate\", \"Accept\":\"text/html,application/xhtml+xml,application/xml;q=0.9,*/*;q=0.8\", \"DNT\":\"1\",\"Connection\":\"close\", \"Upgrade-Insecure-Requests\":\"1\"}\n",
    "\n",
    "    page = requests.get(URL, headers = headers)\n",
    "\n",
    "    soup1 = BeautifulSoup(page.content, \"html.parser\")\n",
    "\n",
    "    soup2 = BeautifulSoup(soup1.prettify(), \"html.parser\")\n",
    "\n",
    "    title = soup2.find(id = 'productTitle').get_text()\n",
    "\n",
    "    price = soup2.find(id = 'corePriceDisplay_desktop_feature_div').get_text()\n",
    "\n",
    "    price = price.strip()[37:40]\n",
    "    title = title.strip()\n",
    "    \n",
    "    import datetime\n",
    "    today = datetime.date.today()\n",
    "    \n",
    "    import csv\n",
    "\n",
    "    header = ['Title','Price','date']\n",
    "\n",
    "    data = [title, price,today]\n",
    "\n",
    "    with open('Amazonwebscraperdataset.csv', 'a+', newline='', encoding = 'UTF8') as f:\n",
    "        writer = csv.writer(f)\n",
    "        writer.writerow(data)\n"
   ]
  },
  {
   "cell_type": "code",
   "execution_count": 66,
   "id": "0d88941e",
   "metadata": {},
   "outputs": [
    {
     "ename": "KeyboardInterrupt",
     "evalue": "",
     "output_type": "error",
     "traceback": [
      "\u001b[1;31m---------------------------------------------------------------------------\u001b[0m",
      "\u001b[1;31mKeyboardInterrupt\u001b[0m                         Traceback (most recent call last)",
      "\u001b[1;32m~\\AppData\\Local\\Temp\\ipykernel_11748\\4212351095.py\u001b[0m in \u001b[0;36m<module>\u001b[1;34m\u001b[0m\n\u001b[0;32m      1\u001b[0m \u001b[1;32mwhile\u001b[0m\u001b[1;33m(\u001b[0m\u001b[1;32mTrue\u001b[0m\u001b[1;33m)\u001b[0m\u001b[1;33m:\u001b[0m\u001b[1;33m\u001b[0m\u001b[1;33m\u001b[0m\u001b[0m\n\u001b[0;32m      2\u001b[0m     \u001b[0mcheck_price\u001b[0m\u001b[1;33m(\u001b[0m\u001b[1;33m)\u001b[0m\u001b[1;33m\u001b[0m\u001b[1;33m\u001b[0m\u001b[0m\n\u001b[1;32m----> 3\u001b[1;33m     \u001b[0mtime\u001b[0m\u001b[1;33m.\u001b[0m\u001b[0msleep\u001b[0m\u001b[1;33m(\u001b[0m\u001b[1;36m5\u001b[0m\u001b[1;33m)\u001b[0m\u001b[1;33m\u001b[0m\u001b[1;33m\u001b[0m\u001b[0m\n\u001b[0m",
      "\u001b[1;31mKeyboardInterrupt\u001b[0m: "
     ]
    }
   ],
   "source": [
    "# Runs check_price after a set time and inputs data into your CSV\n",
    "\n",
    "while(True):\n",
    "    check_price()\n",
    "    time.sleep(86400)"
   ]
  },
  {
   "cell_type": "code",
   "execution_count": 67,
   "id": "f668925c",
   "metadata": {},
   "outputs": [
    {
     "data": {
      "text/html": [
       "<div>\n",
       "<style scoped>\n",
       "    .dataframe tbody tr th:only-of-type {\n",
       "        vertical-align: middle;\n",
       "    }\n",
       "\n",
       "    .dataframe tbody tr th {\n",
       "        vertical-align: top;\n",
       "    }\n",
       "\n",
       "    .dataframe thead th {\n",
       "        text-align: right;\n",
       "    }\n",
       "</style>\n",
       "<table border=\"1\" class=\"dataframe\">\n",
       "  <thead>\n",
       "    <tr style=\"text-align: right;\">\n",
       "      <th></th>\n",
       "      <th>Title</th>\n",
       "      <th>Price</th>\n",
       "      <th>date</th>\n",
       "    </tr>\n",
       "  </thead>\n",
       "  <tbody>\n",
       "    <tr>\n",
       "      <th>0</th>\n",
       "      <td>The Banyan Tee Half Sleeve Premium Printed Cot...</td>\n",
       "      <td>699</td>\n",
       "      <td>2023-03-23</td>\n",
       "    </tr>\n",
       "    <tr>\n",
       "      <th>1</th>\n",
       "      <td>The Banyan Tee Half Sleeve Premium Printed Cot...</td>\n",
       "      <td>699</td>\n",
       "      <td>2023-03-23</td>\n",
       "    </tr>\n",
       "  </tbody>\n",
       "</table>\n",
       "</div>"
      ],
      "text/plain": [
       "                                               Title  Price        date\n",
       "0  The Banyan Tee Half Sleeve Premium Printed Cot...    699  2023-03-23\n",
       "1  The Banyan Tee Half Sleeve Premium Printed Cot...    699  2023-03-23"
      ]
     },
     "execution_count": 67,
     "metadata": {},
     "output_type": "execute_result"
    }
   ],
   "source": [
    "#Price drop checker\n",
    "\n",
    "if(price < 500):\n",
    "    send_mail()"
   ]
  },
  {
   "cell_type": "code",
   "execution_count": null,
   "id": "ffa5ef49",
   "metadata": {},
   "outputs": [],
   "source": [
    "# If you want to try sending yourself an email when a price hits below a certain level you can try it\n",
    "# out with this script\n",
    "\n",
    "def send_mail():\n",
    "    server = smtplib.SMTP_SSL('smtp.gmail.com',465)\n",
    "    server.ehlo()\n",
    "    #server.starttls()\n",
    "    server.ehlo()\n",
    "    server.login('testmail@gmail.com','xxpassxx')\n",
    "    \n",
    "    subject = \"The Shirt you want is below 500rs! Now is your chance to buy!\"\n",
    "    body = \"Adnaan, This is the moment we have been waiting for. Now is your chance to pick up the shirt of your dreams. Don't mess it up! Link here: https://www.amazon.in/Banyan-Tee-Radiohead-T-Shirt-Regular/dp/B08VMNZJCQ/ref=sr_1_11?crid=J51MNE8CB5TH&keywords=radiohead+tshirt&qid=1679590397&sprefix=radiohead+tsh%2Caps%2C266&sr=8-11\"\n",
    "   \n",
    "    msg = f\"Subject: {subject}\\n\\n{body}\"\n",
    "    \n",
    "    server.sendmail(\n",
    "        'testmail@gmail.com',\n",
    "        msg\n",
    "     \n",
    "    )"
   ]
  },
  {
   "cell_type": "code",
   "execution_count": null,
   "id": "4e1c3609",
   "metadata": {},
   "outputs": [],
   "source": []
  }
 ],
 "metadata": {
  "kernelspec": {
   "display_name": "Python 3 (ipykernel)",
   "language": "python",
   "name": "python3"
  },
  "language_info": {
   "codemirror_mode": {
    "name": "ipython",
    "version": 3
   },
   "file_extension": ".py",
   "mimetype": "text/x-python",
   "name": "python",
   "nbconvert_exporter": "python",
   "pygments_lexer": "ipython3",
   "version": "3.9.13"
  }
 },
 "nbformat": 4,
 "nbformat_minor": 5
}
